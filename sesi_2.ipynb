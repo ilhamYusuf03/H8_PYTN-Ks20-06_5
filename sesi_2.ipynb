{
 "cells": [
  {
   "cell_type": "markdown",
   "metadata": {},
   "source": [
    "```\n",
    "if condition:\n",
    "    action statement\n",
    "```\n",
    "\n",
    "bisa jalan jika condition == True"
   ]
  },
  {
   "cell_type": "code",
   "execution_count": 1,
   "metadata": {},
   "outputs": [
    {
     "name": "stdout",
     "output_type": "stream",
     "text": [
      "Code ini jalan\n"
     ]
    }
   ],
   "source": [
    "if True:\n",
    "    print(\"Code ini jalan\")"
   ]
  },
  {
   "cell_type": "code",
   "execution_count": 2,
   "metadata": {},
   "outputs": [],
   "source": [
    "if False:\n",
    "    print(\"Code ini ga jalan\")"
   ]
  },
  {
   "cell_type": "code",
   "execution_count": 7,
   "metadata": {},
   "outputs": [],
   "source": [
    "if \"saya\" in \"Saya mau makan\":\n",
    "    print(\"iya, makan\")"
   ]
  },
  {
   "cell_type": "code",
   "execution_count": 26,
   "metadata": {},
   "outputs": [
    {
     "name": "stdout",
     "output_type": "stream",
     "text": [
      "jalan 1\n",
      "jalan 3\n",
      "jalan 6\n"
     ]
    }
   ],
   "source": [
    "x = 5\n",
    "y = 0\n",
    "\n",
    "if x > y:\n",
    "    print(\"jalan 1\")\n",
    "\n",
    "if x < y:\n",
    "    print(\"jalan 2\")\n",
    "\n",
    "# Kalo bukan 0, angka itu dinilai True\n",
    "if x:\n",
    "    print(\"jalan 3\")\n",
    "\n",
    "if y:\n",
    "    print(\"jalan 4\")\n",
    "\n",
    "if y != 0:\n",
    "    print(\"jalan 4.5\")\n",
    "\n",
    "# kalo ada string, dinilai True\n",
    "# kalo empty string, dinilai False\n",
    "if \"\":\n",
    "    print(\"jalan 5\")\n",
    "\n",
    "if \"ada\":\n",
    "    print(\"jalan 6\")"
   ]
  },
  {
   "cell_type": "code",
   "execution_count": 72,
   "metadata": {},
   "outputs": [
    {
     "name": "stdout",
     "output_type": "stream",
     "text": [
      "code di luar if\n"
     ]
    }
   ],
   "source": [
    "if False:\n",
    "    print(\"ga jalan\")\n",
    "\n",
    "    print(\"code block di dalem if\")\n",
    "print(\"code di luar if\")"
   ]
  },
  {
   "cell_type": "code",
   "execution_count": 78,
   "metadata": {},
   "outputs": [
    {
     "name": "stdout",
     "output_type": "stream",
     "text": [
      "jalan 1\n",
      "jalan 2\n"
     ]
    }
   ],
   "source": [
    "# code block bisa nested\n",
    "if True:\n",
    "    print(\"jalan 1\")\n",
    "    if True:\n",
    "        print(\"jalan 2\")"
   ]
  },
  {
   "cell_type": "code",
   "execution_count": 83,
   "metadata": {},
   "outputs": [
    {
     "name": "stdout",
     "output_type": "stream",
     "text": [
      "outer cond benar\n",
      "inner cond 2\n",
      "inner cond lv 2\n",
      "outer cond selesai\n",
      "di luar cond\n"
     ]
    }
   ],
   "source": [
    "if \"foo\" in [\"foo\", \"bar\", \"baz\"]:\n",
    "    print(\"outer cond benar\")  # jalan\n",
    "\n",
    "    if 10 > 20:\n",
    "        print(\"inner cond 1\")  # ga jalan\n",
    "\n",
    "    if 10 < 20:\n",
    "        print(\"inner cond 2\")  # jalan\n",
    "\n",
    "        if \"o\" in \"foo\":\n",
    "            print(\"inner cond lv 2\")  # jalan\n",
    "\n",
    "    print(\"outer cond selesai\")  # jalan\n",
    "\n",
    "print(\"di luar cond\")  # jalan"
   ]
  },
  {
   "cell_type": "code",
   "execution_count": 88,
   "metadata": {},
   "outputs": [
    {
     "name": "stdout",
     "output_type": "stream",
     "text": [
      "cond 1\n",
      "langsung ke sini\n"
     ]
    }
   ],
   "source": [
    "if True:\n",
    "    print(\"cond 1\")\n",
    "else:\n",
    "    print(\"alternatif 1\")\n",
    "print(\"langsung ke sini\")"
   ]
  },
  {
   "cell_type": "code",
   "execution_count": 86,
   "metadata": {},
   "outputs": [
    {
     "name": "stdout",
     "output_type": "stream",
     "text": [
      "alternatif 1\n"
     ]
    }
   ],
   "source": [
    "if False:\n",
    "    print(\"cond 1\")\n",
    "else:\n",
    "    print(\"alternatif 1\")"
   ]
  },
  {
   "cell_type": "code",
   "execution_count": 91,
   "metadata": {},
   "outputs": [
    {
     "name": "stdout",
     "output_type": "stream",
     "text": [
      "(first suite)\n",
      "x is small\n"
     ]
    }
   ],
   "source": [
    "x = 20\n",
    "\n",
    "if x < 50:\n",
    "    print(\"(first suite)\")\n",
    "    print(\"x is small\")\n",
    "else:\n",
    "    print(\"(second suite)\")\n",
    "    print(\"x is large\")\n"
   ]
  },
  {
   "cell_type": "code",
   "execution_count": 90,
   "metadata": {},
   "outputs": [
    {
     "name": "stdout",
     "output_type": "stream",
     "text": [
      "(second suite)\n",
      "x is large\n"
     ]
    }
   ],
   "source": [
    "x = 60\n",
    "\n",
    "if x < 50:\n",
    "    print(\"(first suite)\")\n",
    "    print(\"x is small\")\n",
    "else:\n",
    "    print(\"(second suite)\")\n",
    "    print(\"x is large\")\n"
   ]
  },
  {
   "cell_type": "code",
   "execution_count": 92,
   "metadata": {},
   "outputs": [
    {
     "name": "stdout",
     "output_type": "stream",
     "text": [
      "uang ga cukup\n"
     ]
    }
   ],
   "source": [
    "harga_buku = 20000\n",
    "harga_majalah = 5000\n",
    "uang = 2000\n",
    "\n",
    "if uang > harga_buku:\n",
    "    print(\"beli buku\")\n",
    "else:\n",
    "    print(\"uang ga cukup\")"
   ]
  },
  {
   "cell_type": "code",
   "execution_count": 97,
   "metadata": {},
   "outputs": [
    {
     "name": "stdout",
     "output_type": "stream",
     "text": [
      "uang ga cukup\n",
      "selalu jalan\n"
     ]
    }
   ],
   "source": [
    "harga_buku = 20000\n",
    "harga_majalah = 5000\n",
    "uang = 1000\n",
    "\n",
    "if uang > harga_buku:\n",
    "    print(\"beli buku\")\n",
    "elif uang > harga_majalah:\n",
    "    print(\"beli majalah\")\n",
    "else:\n",
    "    print(\"uang ga cukup\")\n",
    "print(\"selalu jalan\")"
   ]
  },
  {
   "cell_type": "code",
   "execution_count": 107,
   "metadata": {},
   "outputs": [
    {
     "name": "stdout",
     "output_type": "stream",
     "text": [
      "foo\n"
     ]
    }
   ],
   "source": [
    "if \"a\" in \"bar\":  # True\n",
    "    print(\"foo\");\n",
    "elif 1/0:\n",
    "    print(\"ga jalan\");\n",
    "elif var:\n",
    "    print(\"ga jalan\");"
   ]
  },
  {
   "cell_type": "code",
   "execution_count": 109,
   "metadata": {},
   "outputs": [
    {
     "name": "stdout",
     "output_type": "stream",
     "text": [
      "cond 1\n",
      "cond 2\n"
     ]
    }
   ],
   "source": [
    "if True: print(\"cond 1\"); print(\"cond 2\");"
   ]
  },
  {
   "cell_type": "code",
   "execution_count": 112,
   "metadata": {},
   "outputs": [
    {
     "name": "stdout",
     "output_type": "stream",
     "text": [
      "1\n",
      "2\n",
      "3\n"
     ]
    }
   ],
   "source": [
    "if \"f\" in \"foo\": print(\"1\"); print(\"2\"); print(\"3\")"
   ]
  },
  {
   "cell_type": "code",
   "execution_count": 113,
   "metadata": {},
   "outputs": [],
   "source": [
    "if \"z\" in \"foo\": print(\"1\"); print(\"2\"); print(\"3\")"
   ]
  },
  {
   "cell_type": "code",
   "execution_count": 120,
   "metadata": {},
   "outputs": [
    {
     "name": "stdout",
     "output_type": "stream",
     "text": [
      "alternatif 3\n"
     ]
    }
   ],
   "source": [
    "if False: print(\"alternatif 1\")\n",
    "elif False: print(\"alternatif 2\")\n",
    "else: print(\"alternatif 3\")"
   ]
  },
  {
   "cell_type": "code",
   "execution_count": 123,
   "metadata": {},
   "outputs": [
    {
     "name": "stdout",
     "output_type": "stream",
     "text": [
      "alternatif 2.1\n",
      "alternatif 2.2\n"
     ]
    }
   ],
   "source": [
    "x = 2\n",
    "if x == 1: print(\"alternatif 1.1\"); print(\"alternatif 1.2\"); print(\"alternatif 1.3\")\n",
    "elif x == 2: print(\"alternatif 2.1\"); print(\"alternatif 2.2\")\n",
    "else: print(\"alternatif 3\")"
   ]
  },
  {
   "cell_type": "code",
   "execution_count": 124,
   "metadata": {},
   "outputs": [
    {
     "name": "stdout",
     "output_type": "stream",
     "text": [
      "alternatif 2.1\n",
      "alternatif 2.2\n"
     ]
    }
   ],
   "source": [
    "x = 2\n",
    "if x == 1:\n",
    "    print(\"alternatif 1.1\")\n",
    "    print(\"alternatif 1.2\")\n",
    "    print(\"alternatif 1.3\")\n",
    "elif x == 2:\n",
    "    print(\"alternatif 2.1\")\n",
    "    print(\"alternatif 2.2\")\n",
    "else:\n",
    "    print(\"alternatif 3\")"
   ]
  },
  {
   "cell_type": "markdown",
   "metadata": {},
   "source": [
    "## Ternary"
   ]
  },
  {
   "cell_type": "code",
   "execution_count": 128,
   "metadata": {},
   "outputs": [
    {
     "name": "stdout",
     "output_type": "stream",
     "text": [
      "Let's go to the beach\n"
     ]
    }
   ],
   "source": [
    "raining = False\n",
    "print(\"Let's go to the\", \"beach\" if not raining else \"library\")"
   ]
  },
  {
   "cell_type": "code",
   "execution_count": 129,
   "metadata": {},
   "outputs": [
    {
     "name": "stdout",
     "output_type": "stream",
     "text": [
      "Let's go to the library\n"
     ]
    }
   ],
   "source": [
    "raining = True\n",
    "print(\"Let's go to the\", \"beach\" if not raining else \"library\")"
   ]
  },
  {
   "cell_type": "code",
   "execution_count": 132,
   "metadata": {},
   "outputs": [
    {
     "data": {
      "text/plain": [
       "'b'"
      ]
     },
     "execution_count": 132,
     "metadata": {},
     "output_type": "execute_result"
    }
   ],
   "source": [
    "\"a\" if False else \"b\""
   ]
  },
  {
   "cell_type": "code",
   "execution_count": 133,
   "metadata": {},
   "outputs": [
    {
     "data": {
      "text/plain": [
       "'teen'"
      ]
     },
     "execution_count": 133,
     "metadata": {},
     "output_type": "execute_result"
    }
   ],
   "source": [
    "age = 12\n",
    "s = \"teen\" if age < 21 else \"adult\"\n",
    "s"
   ]
  },
  {
   "cell_type": "code",
   "execution_count": 134,
   "metadata": {},
   "outputs": [
    {
     "data": {
      "text/plain": [
       "'adult'"
      ]
     },
     "execution_count": 134,
     "metadata": {},
     "output_type": "execute_result"
    }
   ],
   "source": [
    "age = 24\n",
    "s = \"teen\" if age < 21 else \"adult\"\n",
    "s"
   ]
  },
  {
   "cell_type": "code",
   "execution_count": 136,
   "metadata": {},
   "outputs": [
    {
     "data": {
      "text/plain": [
       "'teen'"
      ]
     },
     "execution_count": 136,
     "metadata": {},
     "output_type": "execute_result"
    }
   ],
   "source": [
    "age = 12\n",
    "if age < 21:\n",
    "    s = \"teen\"\n",
    "else:\n",
    "    s = \"adult\"\n",
    "s"
   ]
  },
  {
   "cell_type": "markdown",
   "metadata": {},
   "source": [
    "## Pass"
   ]
  },
  {
   "cell_type": "code",
   "execution_count": 137,
   "metadata": {},
   "outputs": [
    {
     "name": "stdout",
     "output_type": "stream",
     "text": [
      "cond 1\n"
     ]
    }
   ],
   "source": [
    "if True:\n",
    "    print(\"cond 1\")"
   ]
  },
  {
   "cell_type": "code",
   "execution_count": 141,
   "metadata": {},
   "outputs": [
    {
     "name": "stdout",
     "output_type": "stream",
     "text": [
      "foo\n"
     ]
    }
   ],
   "source": [
    "if True:\n",
    "    pass  # ga ngapa2in\n",
    "print(\"foo\")"
   ]
  },
  {
   "cell_type": "markdown",
   "metadata": {},
   "source": [
    "## While loop"
   ]
  },
  {
   "cell_type": "code",
   "execution_count": 143,
   "metadata": {},
   "outputs": [
    {
     "name": "stdout",
     "output_type": "stream",
     "text": [
      "1\n",
      "2\n",
      "3\n",
      "4\n",
      "5\n",
      "6\n",
      "7\n",
      "8\n",
      "9\n",
      "10\n"
     ]
    }
   ],
   "source": [
    "print(1)\n",
    "print(2)\n",
    "print(3)\n",
    "print(4)\n",
    "print(5)\n",
    "print(6)\n",
    "print(7)\n",
    "print(8)\n",
    "print(9)\n",
    "print(10)"
   ]
  },
  {
   "cell_type": "code",
   "execution_count": 148,
   "metadata": {},
   "outputs": [
    {
     "name": "stdout",
     "output_type": "stream",
     "text": [
      "terus\n",
      "4\n",
      "terus\n",
      "3\n",
      "terus\n",
      "2\n",
      "terus\n",
      "1\n",
      "terus\n",
      "0\n"
     ]
    }
   ],
   "source": [
    "n = 5\n",
    "while n > 0:\n",
    "    print(\"terus\")\n",
    "    n -= 1\n",
    "    print(n)\n"
   ]
  },
  {
   "cell_type": "code",
   "execution_count": 150,
   "metadata": {},
   "outputs": [
    {
     "name": "stdout",
     "output_type": "stream",
     "text": [
      "1\n",
      "2\n",
      "3\n",
      "4\n",
      "5\n",
      "6\n",
      "7\n",
      "8\n",
      "9\n",
      "10\n",
      "stop\n"
     ]
    }
   ],
   "source": [
    "n = 1\n",
    "while n < 11:\n",
    "    print(n)\n",
    "    n += 1\n",
    "print(\"stop\")"
   ]
  },
  {
   "cell_type": "markdown",
   "metadata": {},
   "source": [
    "## Break and Continue"
   ]
  },
  {
   "cell_type": "code",
   "execution_count": 153,
   "metadata": {},
   "outputs": [
    {
     "name": "stdout",
     "output_type": "stream",
     "text": [
      "di dalem while\n",
      "di luar while\n"
     ]
    }
   ],
   "source": [
    "while True:\n",
    "    print(\"di dalem while\")\n",
    "    break\n",
    "print(\"di luar while\")"
   ]
  },
  {
   "cell_type": "code",
   "execution_count": 168,
   "metadata": {},
   "outputs": [
    {
     "name": "stdout",
     "output_type": "stream",
     "text": [
      "1\n",
      "2\n",
      "3\n",
      "4\n",
      "5\n",
      "n terakhir 5\n",
      "stop\n"
     ]
    }
   ],
   "source": [
    "n = 0\n",
    "while n < 5:\n",
    "    n += 1\n",
    "    print(n)\n",
    "print(\"n terakhir\", n)\n",
    "print(\"stop\")"
   ]
  },
  {
   "cell_type": "code",
   "execution_count": 169,
   "metadata": {},
   "outputs": [
    {
     "name": "stdout",
     "output_type": "stream",
     "text": [
      "1\n",
      "2\n",
      "n terakhir 3\n",
      "stop\n"
     ]
    }
   ],
   "source": [
    "n = 0\n",
    "while n < 5:\n",
    "    n += 1\n",
    "    if n == 3:\n",
    "        break\n",
    "    print(n)\n",
    "print(\"n terakhir\", n)\n",
    "print(\"stop\")"
   ]
  },
  {
   "cell_type": "code",
   "execution_count": 170,
   "metadata": {},
   "outputs": [
    {
     "name": "stdout",
     "output_type": "stream",
     "text": [
      "1\n",
      "2\n",
      "4\n",
      "5\n",
      "n terakhir 5\n",
      "stop\n"
     ]
    }
   ],
   "source": [
    "n = 0\n",
    "while n < 5:\n",
    "    n += 1\n",
    "    if n == 3:\n",
    "        continue\n",
    "    print(n)\n",
    "print(\"n terakhir\", n)\n",
    "print(\"stop\")"
   ]
  },
  {
   "cell_type": "code",
   "execution_count": 171,
   "metadata": {},
   "outputs": [
    {
     "name": "stdout",
     "output_type": "stream",
     "text": [
      "1\n",
      "2\n",
      "3\n",
      "4\n",
      "n terakhir 5\n",
      "stop\n"
     ]
    }
   ],
   "source": [
    "n = 0\n",
    "while True:\n",
    "    n+=1\n",
    "    if n == 5:\n",
    "        break\n",
    "    print(n)\n",
    "print(\"n terakhir\", n)\n",
    "print(\"stop\")"
   ]
  },
  {
   "cell_type": "code",
   "execution_count": 176,
   "metadata": {},
   "outputs": [
    {
     "name": "stdout",
     "output_type": "stream",
     "text": [
      "1\n",
      "2\n",
      "3\n",
      "4\n",
      "5\n",
      "stop\n"
     ]
    }
   ],
   "source": [
    "n = 0\n",
    "while n < 5:\n",
    "    n += 1\n",
    "    print(n)\n",
    "else:\n",
    "    print(\"stop\")"
   ]
  },
  {
   "cell_type": "code",
   "execution_count": 180,
   "metadata": {},
   "outputs": [
    {
     "name": "stdout",
     "output_type": "stream",
     "text": [
      "1\n",
      "2\n"
     ]
    }
   ],
   "source": [
    "n = 0\n",
    "while n < 5:\n",
    "    n += 1\n",
    "    if n == 3:\n",
    "        break\n",
    "    print(n)\n",
    "else:\n",
    "    print(\"stop\")"
   ]
  },
  {
   "cell_type": "markdown",
   "metadata": {},
   "source": [
    "## Truthy and Falsy"
   ]
  },
  {
   "cell_type": "code",
   "execution_count": 192,
   "metadata": {},
   "outputs": [
    {
     "name": "stdout",
     "output_type": "stream",
     "text": [
      "True\n",
      "False\n",
      "========\n",
      "True\n",
      "False\n",
      "========\n",
      "True\n",
      "False\n",
      "========\n",
      "True\n",
      "False\n",
      "========\n",
      "False\n"
     ]
    }
   ],
   "source": [
    "print(bool(True))\n",
    "print(bool(False))\n",
    "\n",
    "print(\"=\" * 8)\n",
    "\n",
    "print(bool(\"a\"))\n",
    "print(bool(\"\"))\n",
    "\n",
    "print(\"=\" * 8)\n",
    "\n",
    "print(bool(5))\n",
    "print(bool(0))\n",
    "\n",
    "print(\"=\" * 8)\n",
    "\n",
    "print(bool([\"a\", \"b\"]))\n",
    "print(bool([]))\n",
    "\n",
    "print(\"=\" * 8)\n",
    "\n",
    "print(bool(None))\n"
   ]
  },
  {
   "cell_type": "code",
   "execution_count": 197,
   "metadata": {},
   "outputs": [
    {
     "name": "stdout",
     "output_type": "stream",
     "text": [
      "['foo', 'bar']\n",
      "bar\n",
      "['foo']\n"
     ]
    }
   ],
   "source": [
    "a = [\"foo\", \"bar\"]\n",
    "print(a)\n",
    "print(a.pop())\n",
    "print(a)"
   ]
  },
  {
   "cell_type": "code",
   "execution_count": 199,
   "metadata": {},
   "outputs": [
    {
     "name": "stdout",
     "output_type": "stream",
     "text": [
      "foo\n",
      "> baz\n",
      "> qux\n",
      "> inner loop selesai\n",
      "bar\n",
      "> baz\n",
      "> qux\n",
      "> inner loop selesai\n",
      "outer loop selesai\n"
     ]
    }
   ],
   "source": [
    "a = [\"foo\", \"bar\"]\n",
    "\n",
    "while len(a):\n",
    "    print(a.pop(0))  # jalan 1; jalan 1.2\n",
    "\n",
    "    b = [\"baz\", \"qux\"]  # jalan 2; jalan 2.2\n",
    "\n",
    "    while len(b):  # jalan 3.1; jalan 3.2\n",
    "        print(\">\", b.pop(0))  # jalan 3.1.1; # jalan 3.1.2; jalan 3.2.1; jalan 3.2.2\n",
    "    else:\n",
    "        print(\"> inner loop selesai\")\n",
    "\n",
    "else:\n",
    "    print(\"outer loop selesai\")\n"
   ]
  },
  {
   "cell_type": "code",
   "execution_count": 201,
   "metadata": {},
   "outputs": [
    {
     "name": "stdout",
     "output_type": "stream",
     "text": [
      "0\n",
      "1\n",
      "2\n",
      "3\n",
      "4\n"
     ]
    }
   ],
   "source": [
    "i = 0\n",
    "while i < 5:\n",
    "    print(i)\n",
    "    i += 1"
   ]
  },
  {
   "cell_type": "markdown",
   "metadata": {},
   "source": [
    "## For loop"
   ]
  },
  {
   "cell_type": "code",
   "execution_count": 203,
   "metadata": {},
   "outputs": [
    {
     "data": {
      "text/plain": [
       "['foo', 'bar']"
      ]
     },
     "execution_count": 203,
     "metadata": {},
     "output_type": "execute_result"
    }
   ],
   "source": [
    "[\"foo\", \"bar\"]"
   ]
  },
  {
   "cell_type": "code",
   "execution_count": 204,
   "metadata": {},
   "outputs": [
    {
     "data": {
      "text/plain": [
       "('foo', 'bar')"
      ]
     },
     "execution_count": 204,
     "metadata": {},
     "output_type": "execute_result"
    }
   ],
   "source": [
    "(\"foo\", \"bar\")"
   ]
  },
  {
   "cell_type": "code",
   "execution_count": 205,
   "metadata": {},
   "outputs": [
    {
     "data": {
      "text/plain": [
       "[0, 1, 2, 3, 4]"
      ]
     },
     "execution_count": 205,
     "metadata": {},
     "output_type": "execute_result"
    }
   ],
   "source": [
    "[0, 1, 2, 3, 4]"
   ]
  },
  {
   "cell_type": "code",
   "execution_count": 207,
   "metadata": {},
   "outputs": [
    {
     "name": "stdout",
     "output_type": "stream",
     "text": [
      "0\n",
      "1\n",
      "2\n",
      "3\n",
      "4\n"
     ]
    }
   ],
   "source": [
    "for i in [0, 1, 2, 3, 4]:\n",
    "    print(i)"
   ]
  },
  {
   "cell_type": "code",
   "execution_count": 215,
   "metadata": {},
   "outputs": [
    {
     "name": "stdout",
     "output_type": "stream",
     "text": [
      "0\n",
      "1\n",
      "2\n",
      "3\n",
      "4\n"
     ]
    }
   ],
   "source": [
    "for i in range(5):\n",
    "    print(i)"
   ]
  },
  {
   "cell_type": "code",
   "execution_count": 216,
   "metadata": {},
   "outputs": [
    {
     "name": "stdout",
     "output_type": "stream",
     "text": [
      "foo\n",
      "bar\n"
     ]
    }
   ],
   "source": [
    "for i in [\"foo\", \"bar\"]:\n",
    "    print(i)"
   ]
  },
  {
   "cell_type": "code",
   "execution_count": 217,
   "metadata": {},
   "outputs": [
    {
     "name": "stdout",
     "output_type": "stream",
     "text": [
      "foo\n",
      "bar\n"
     ]
    }
   ],
   "source": [
    "for i in (\"foo\", \"bar\"):\n",
    "    print(i)"
   ]
  },
  {
   "cell_type": "code",
   "execution_count": 218,
   "metadata": {},
   "outputs": [
    {
     "name": "stdout",
     "output_type": "stream",
     "text": [
      "bar\n",
      "foo\n"
     ]
    }
   ],
   "source": [
    "for i in {\"foo\", \"bar\"}:\n",
    "    print(i)"
   ]
  },
  {
   "cell_type": "code",
   "execution_count": 236,
   "metadata": {},
   "outputs": [
    {
     "name": "stdout",
     "output_type": "stream",
     "text": [
      "foo\n",
      "bar\n",
      "baz\n",
      "========\n",
      "foo\n",
      "bar\n",
      "baz\n",
      "========\n",
      "1\n",
      "2\n",
      "3\n",
      "========\n",
      "('foo', 1)\n",
      "('bar', 2)\n",
      "('baz', 3)\n",
      "========\n",
      "1 foo\n",
      "2 bar\n",
      "3 baz\n"
     ]
    }
   ],
   "source": [
    "d = {\"foo\": 1, \"bar\": 2, \"baz\": 3}\n",
    "\n",
    "for k in d:\n",
    "    print(k)\n",
    "\n",
    "print(\"=\" * 8)\n",
    "\n",
    "for k in d.keys():\n",
    "    print(k)\n",
    "\n",
    "print(\"=\" * 8)\n",
    "\n",
    "for v in d.values():\n",
    "    print(v)\n",
    "\n",
    "print(\"=\" * 8)\n",
    "\n",
    "for i in d.items():\n",
    "    print(i)\n",
    "\n",
    "print(\"=\" * 8)\n",
    "\n",
    "for k, v in d.items():\n",
    "    print(v, k)"
   ]
  },
  {
   "cell_type": "code",
   "execution_count": 229,
   "metadata": {},
   "outputs": [
    {
     "name": "stdout",
     "output_type": "stream",
     "text": [
      "foo\n",
      "bar\n",
      "baz\n"
     ]
    }
   ],
   "source": []
  },
  {
   "cell_type": "markdown",
   "metadata": {},
   "source": [
    "### Range\n",
    "\n",
    "range(start, stop, step)"
   ]
  },
  {
   "cell_type": "code",
   "execution_count": 237,
   "metadata": {},
   "outputs": [
    {
     "data": {
      "text/plain": [
       "range(0, 5)"
      ]
     },
     "execution_count": 237,
     "metadata": {},
     "output_type": "execute_result"
    }
   ],
   "source": [
    "range(5)"
   ]
  },
  {
   "cell_type": "code",
   "execution_count": 238,
   "metadata": {},
   "outputs": [
    {
     "data": {
      "text/plain": [
       "range(0, 10)"
      ]
     },
     "execution_count": 238,
     "metadata": {},
     "output_type": "execute_result"
    }
   ],
   "source": [
    "range(10)"
   ]
  },
  {
   "cell_type": "code",
   "execution_count": 240,
   "metadata": {},
   "outputs": [
    {
     "data": {
      "text/plain": [
       "[0, 1, 2, 3, 4, 5, 6, 7, 8, 9]"
      ]
     },
     "execution_count": 240,
     "metadata": {},
     "output_type": "execute_result"
    }
   ],
   "source": [
    "list(range(10))"
   ]
  },
  {
   "cell_type": "code",
   "execution_count": 239,
   "metadata": {},
   "outputs": [
    {
     "data": {
      "text/plain": [
       "range(10, 2)"
      ]
     },
     "execution_count": 239,
     "metadata": {},
     "output_type": "execute_result"
    }
   ],
   "source": [
    "range(10, 2)"
   ]
  },
  {
   "cell_type": "code",
   "execution_count": 243,
   "metadata": {},
   "outputs": [
    {
     "data": {
      "text/plain": [
       "[]"
      ]
     },
     "execution_count": 243,
     "metadata": {},
     "output_type": "execute_result"
    }
   ],
   "source": [
    "list(range(10, 2))"
   ]
  },
  {
   "cell_type": "code",
   "execution_count": 247,
   "metadata": {},
   "outputs": [
    {
     "data": {
      "text/plain": [
       "range(0, 10, 2)"
      ]
     },
     "execution_count": 247,
     "metadata": {},
     "output_type": "execute_result"
    }
   ],
   "source": [
    "range(0, 10, 2)"
   ]
  },
  {
   "cell_type": "code",
   "execution_count": 248,
   "metadata": {},
   "outputs": [
    {
     "data": {
      "text/plain": [
       "[0, 2, 4, 6, 8]"
      ]
     },
     "execution_count": 248,
     "metadata": {},
     "output_type": "execute_result"
    }
   ],
   "source": [
    "list(range(0, 10, 2))"
   ]
  },
  {
   "cell_type": "code",
   "execution_count": 249,
   "metadata": {},
   "outputs": [
    {
     "data": {
      "text/plain": [
       "range(10, 2, -1)"
      ]
     },
     "execution_count": 249,
     "metadata": {},
     "output_type": "execute_result"
    }
   ],
   "source": [
    "range(10, 2, -1)"
   ]
  },
  {
   "cell_type": "code",
   "execution_count": 250,
   "metadata": {},
   "outputs": [
    {
     "data": {
      "text/plain": [
       "[10, 9, 8, 7, 6, 5, 4, 3]"
      ]
     },
     "execution_count": 250,
     "metadata": {},
     "output_type": "execute_result"
    }
   ],
   "source": [
    "list(range(10, 2, -1))"
   ]
  },
  {
   "cell_type": "code",
   "execution_count": 254,
   "metadata": {},
   "outputs": [
    {
     "name": "stdout",
     "output_type": "stream",
     "text": [
      "15\n",
      "12\n",
      "9\n",
      "6\n",
      "3\n"
     ]
    }
   ],
   "source": [
    "for i in range(15, 0, -3):\n",
    "    print(i)"
   ]
  },
  {
   "cell_type": "code",
   "execution_count": 255,
   "metadata": {},
   "outputs": [
    {
     "name": "stdout",
     "output_type": "stream",
     "text": [
      "r\n",
      "a\n",
      "n\n",
      "g\n",
      "e\n"
     ]
    }
   ],
   "source": [
    "for i in \"range\":\n",
    "    print(i)"
   ]
  },
  {
   "cell_type": "code",
   "execution_count": 256,
   "metadata": {},
   "outputs": [
    {
     "data": {
      "text/plain": [
       "'r'"
      ]
     },
     "execution_count": 256,
     "metadata": {},
     "output_type": "execute_result"
    }
   ],
   "source": [
    "\"range\"[0]"
   ]
  },
  {
   "cell_type": "code",
   "execution_count": 258,
   "metadata": {},
   "outputs": [
    {
     "name": "stdout",
     "output_type": "stream",
     "text": [
      "foo\n"
     ]
    }
   ],
   "source": [
    "for i in [\"foo\", \"bar\", \"baz\", \"qux\"]:\n",
    "    if \"b\" in i:\n",
    "        break\n",
    "    print(i)"
   ]
  },
  {
   "cell_type": "code",
   "execution_count": 259,
   "metadata": {},
   "outputs": [
    {
     "name": "stdout",
     "output_type": "stream",
     "text": [
      "foo\n",
      "qux\n"
     ]
    }
   ],
   "source": [
    "for i in [\"foo\", \"bar\", \"baz\", \"qux\"]:\n",
    "    if \"b\" in i:\n",
    "        continue\n",
    "    print(i)"
   ]
  },
  {
   "cell_type": "code",
   "execution_count": 260,
   "metadata": {},
   "outputs": [
    {
     "name": "stdout",
     "output_type": "stream",
     "text": [
      "foo\n",
      "bar\n",
      "baz\n",
      "qux\n",
      "loop selesai\n"
     ]
    }
   ],
   "source": [
    "for i in [\"foo\", \"bar\", \"baz\", \"qux\"]:\n",
    "    print(i)\n",
    "else:\n",
    "    print(\"loop selesai\")"
   ]
  },
  {
   "cell_type": "code",
   "execution_count": 261,
   "metadata": {},
   "outputs": [
    {
     "name": "stdout",
     "output_type": "stream",
     "text": [
      "foo\n"
     ]
    }
   ],
   "source": [
    "for i in [\"foo\", \"bar\", \"baz\", \"qux\"]:\n",
    "    if \"b\" in i:\n",
    "        break\n",
    "    print(i)\n",
    "else:\n",
    "    print(\"loop selesai\")"
   ]
  },
  {
   "cell_type": "code",
   "execution_count": 262,
   "metadata": {},
   "outputs": [
    {
     "name": "stdout",
     "output_type": "stream",
     "text": [
      "foo\n",
      "qux\n",
      "loop selesai\n"
     ]
    }
   ],
   "source": [
    "for i in [\"foo\", \"bar\", \"baz\", \"qux\"]:\n",
    "    if \"b\" in i:\n",
    "        continue\n",
    "    print(i)\n",
    "else:\n",
    "    print(\"loop selesai\")"
   ]
  },
  {
   "cell_type": "code",
   "execution_count": 305,
   "metadata": {},
   "outputs": [
    {
     "name": "stdout",
     "output_type": "stream",
     "text": [
      "Temperaturnya adalah 7C\n"
     ]
    }
   ],
   "source": [
    "while True:\n",
    "    temp = input(\"Input temperatur yang ingin dikonversi, eg. 45F, 120C: \")\n",
    "    degree = int(temp[:-1])\n",
    "    i_convertion = temp[-1].upper()\n",
    "\n",
    "    if i_convertion == \"C\":\n",
    "        o_convertion = \"F\"\n",
    "        result_calc = int(round((9 * degree) / 5 + 32))\n",
    "        break\n",
    "    elif i_convertion == \"F\":\n",
    "        o_convertion = \"C\"\n",
    "        result_calc = int(round((degree - 32) * 5 / 9))\n",
    "        break\n",
    "    else:\n",
    "        print(\"Masukkan input yang benar\")\n",
    "\n",
    "result = f\"{result_calc}{o_convertion}\"\n",
    "\n",
    "print(\"Temperaturnya adalah\", result)"
   ]
  },
  {
   "cell_type": "code",
   "execution_count": 306,
   "metadata": {},
   "outputs": [
    {
     "name": "stdout",
     "output_type": "stream",
     "text": [
      "makan\n",
      "berhenti\n",
      "aresntaoier\n",
      "snotaei\n",
      "st0p\n",
      "stop\n"
     ]
    }
   ],
   "source": [
    "while True:\n",
    "    msg = input(\"Ketikkan karakter: \").lower()\n",
    "    print(msg)\n",
    "    if msg == \"stop\":\n",
    "        break"
   ]
  },
  {
   "cell_type": "code",
   "execution_count": null,
   "metadata": {},
   "outputs": [],
   "source": []
  }
 ],
 "metadata": {
  "kernelspec": {
   "display_name": "Python 3",
   "language": "python",
   "name": "python3"
  },
  "language_info": {
   "codemirror_mode": {
    "name": "ipython",
    "version": 3
   },
   "file_extension": ".py",
   "mimetype": "text/x-python",
   "name": "python",
   "nbconvert_exporter": "python",
   "pygments_lexer": "ipython3",
   "version": "3.10.11"
  },
  "orig_nbformat": 4
 },
 "nbformat": 4,
 "nbformat_minor": 2
}
